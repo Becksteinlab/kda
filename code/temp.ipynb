{
 "cells": [
  {
   "cell_type": "code",
   "execution_count": 1,
   "metadata": {},
   "outputs": [],
   "source": [
    "import numpy as np\n",
    "import networkx as nx\n",
    "import matplotlib as mpl\n",
    "import matplotlib.pyplot as plt\n",
    "from model_generation import pos_3\n",
    "import kinetic_diagram_analyzer as kda"
   ]
  },
  {
   "cell_type": "code",
   "execution_count": 2,
   "metadata": {},
   "outputs": [],
   "source": [
    "k12 = 1\n",
    "k21 = 2\n",
    "k23 = 3\n",
    "k32 = 5\n",
    "k13 = 7\n",
    "k31 = 11\n",
    "\n",
    "kvals = np.array([[0, k12, k13],\n",
    "                  [k21, 0, k23],\n",
    "                  [k31, k32, 0]])\n",
    "\n",
    "knames = np.array([[0, \"k12\", \"k13\"],\n",
    "                   [\"k21\", 0, \"k23\"],\n",
    "                   [\"k31\", \"k32\", 0]])\n",
    "\n",
    "rate_names = [\"k12\", \"k21\", \"k23\", \"k32\", \"k13\", \"k31\"]"
   ]
  },
  {
   "cell_type": "code",
   "execution_count": 3,
   "metadata": {},
   "outputs": [],
   "source": [
    "G = nx.MultiDiGraph()\n",
    "kda.generate_edges(G, knames, kvals, name_key='name', val_key='val')\n",
    "pos = pos_3()"
   ]
  },
  {
   "cell_type": "code",
   "execution_count": 4,
   "metadata": {},
   "outputs": [],
   "source": [
    "partials = kda.generate_partial_diagrams(G)\n",
    "dir_partials = kda.generate_directional_partial_diagrams(partials)\n",
    "state_probs = kda.calc_state_probabilities(G, dir_partials, key='val')\n",
    "mult_funcs, norm_func = kda.calc_state_probabilities(G, dir_partials, key='name', output_strings=True)\n",
    "sympy_funcs = kda.construct_sympy_funcs(mult_funcs, norm_func)\n",
    "lambdify_funcs = kda.construct_lambdify_funcs(sympy_funcs, rate_names)"
   ]
  },
  {
   "cell_type": "code",
   "execution_count": 5,
   "metadata": {},
   "outputs": [],
   "source": [
    "G.graph['partials'] = partials\n",
    "G.graph['directional_partials'] = dir_partials\n",
    "kda.add_node_attribute(G, mult_funcs, 'state_mult_func')\n",
    "kda.add_node_attribute(G, G.number_of_nodes()*[norm_func], 'state_norm_func')\n",
    "kda.add_node_attribute(G, state_probs, 'probability')\n",
    "kda.add_node_attribute(G, sympy_funcs, 'sympy_func')\n",
    "kda.add_node_attribute(G, lambdify_funcs, 'lambdify_func')"
   ]
  },
  {
   "cell_type": "code",
   "execution_count": 6,
   "metadata": {},
   "outputs": [
    {
     "data": {
      "text/plain": [
       "[(0,\n",
       "  {'state_mult_func': 'k21*k31+k21*k32+k23*k31',\n",
       "   'state_norm_func': 'k21*k31+k21*k32+k23*k31+k12*k31+k12*k32+k13*k32+k13*k21+k12*k23+k13*k23',\n",
       "   'probability': 0.42207792207792205,\n",
       "   'sympy_func': (k21*k31 + k21*k32 + k23*k31)/(k12*k23 + k12*k31 + k12*k32 + k13*k21 + k13*k23 + k13*k32 + k21*k31 + k21*k32 + k23*k31),\n",
       "   'lambdify_func': <function _lambdifygenerated(k12, k21, k23, k32, k13, k31)>}),\n",
       " (1,\n",
       "  {'state_mult_func': 'k12*k31+k12*k32+k13*k32',\n",
       "   'state_norm_func': 'k21*k31+k21*k32+k23*k31+k12*k31+k12*k32+k13*k32+k13*k21+k12*k23+k13*k23',\n",
       "   'probability': 0.33116883116883117,\n",
       "   'sympy_func': (k12*k31 + k12*k32 + k13*k32)/(k12*k23 + k12*k31 + k12*k32 + k13*k21 + k13*k23 + k13*k32 + k21*k31 + k21*k32 + k23*k31),\n",
       "   'lambdify_func': <function _lambdifygenerated(k12, k21, k23, k32, k13, k31)>}),\n",
       " (2,\n",
       "  {'state_mult_func': 'k13*k21+k12*k23+k13*k23',\n",
       "   'state_norm_func': 'k21*k31+k21*k32+k23*k31+k12*k31+k12*k32+k13*k32+k13*k21+k12*k23+k13*k23',\n",
       "   'probability': 0.24675324675324675,\n",
       "   'sympy_func': (k12*k23 + k13*k21 + k13*k23)/(k12*k23 + k12*k31 + k12*k32 + k13*k21 + k13*k23 + k13*k32 + k21*k31 + k21*k32 + k23*k31),\n",
       "   'lambdify_func': <function _lambdifygenerated(k12, k21, k23, k32, k13, k31)>})]"
      ]
     },
     "execution_count": 6,
     "metadata": {},
     "output_type": "execute_result"
    }
   ],
   "source": [
    "list(G.nodes(data=True))"
   ]
  },
  {
   "cell_type": "code",
   "execution_count": 7,
   "metadata": {},
   "outputs": [],
   "source": [
    "edge_list = list(G.edges(data=True))\n",
    "values = [e[2]['val'] for e in edge_list]"
   ]
  },
  {
   "cell_type": "code",
   "execution_count": 8,
   "metadata": {},
   "outputs": [
    {
     "data": {
      "image/png": "[encoded data removed]",
      "text/plain": [
       "<Figure size 360x288 with 2 Axes>"
      ]
     },
     "metadata": {
      "needs_background": "light"
     },
     "output_type": "display_data"
    }
   ],
   "source": [
    "fig1 = plt.figure(figsize=(5, 4), tight_layout=True)\n",
    "fig1.add_subplot(111)\n",
    "\n",
    "node_sizes = 5e3*state_probs\n",
    "node_list = [i for i in range(G.number_of_nodes())]\n",
    "nodes = nx.draw_networkx_nodes(G, pos, node_size=node_sizes, nodelist=node_list, node_color='grey')\n",
    "\n",
    "M = G.number_of_edges()\n",
    "# edge_colors = range(M)\n",
    "norm = np.array(values).sum(axis=0)\n",
    "edge_alphas = np.array(values)/norm\n",
    "# edges = nx.draw_networkx_edges(H, pos, node_size=node_sizes, width=4, arrow_style='->', arrowsize=15, edge_color=edge_colors, edge_cmap=plt.cm.get_cmap('Greys', 100))\n",
    "edges = nx.draw_networkx_edges(G, pos, node_size=node_sizes, width=4, arrow_style='->', arrowsize=15, edge_cmap=plt.cm.get_cmap('Greys', 100))\n",
    "\n",
    "labels = {}\n",
    "for i in range(G.number_of_nodes()):\n",
    "    labels[i] = r\"${}$\".format(i+1)\n",
    "nx.draw_networkx_labels(G, pos, labels, font_size=16)\n",
    "\n",
    "for i in range(M):\n",
    "    edges[i].set_alpha(edge_alphas[i])\n",
    "    \n",
    "pc = mpl.collections.PatchCollection(edges, cmap=plt.cm.get_cmap('Greys', 100))\n",
    "pc.set_array(edge_alphas*norm)\n",
    "plt.colorbar(pc)\n",
    "plt.axis('off')\n",
    "plt.show()"
   ]
  },
  {
   "cell_type": "code",
   "execution_count": 9,
   "metadata": {},
   "outputs": [],
   "source": [
    "key = 'name'"
   ]
  },
  {
   "cell_type": "code",
   "execution_count": 10,
   "metadata": {},
   "outputs": [
    {
     "data": {
      "text/plain": [
       "True"
      ]
     },
     "execution_count": 10,
     "metadata": {},
     "output_type": "execute_result"
    }
   ],
   "source": [
    "isinstance(key, str)"
   ]
  },
  {
   "cell_type": "code",
   "execution_count": 11,
   "metadata": {},
   "outputs": [],
   "source": [
    "# edge_list = list(H.edges(data=True))\n",
    "# for e in edge_list:\n",
    "#     print(\"{} = {}\".format(e[2]['name'], e[2]['val']))"
   ]
  },
  {
   "cell_type": "code",
   "execution_count": null,
   "metadata": {},
   "outputs": [],
   "source": []
  }
 ],
 "metadata": {
  "kernelspec": {
   "display_name": "Python 3",
   "language": "python",
   "name": "python3"
  },
  "language_info": {
   "codemirror_mode": {
    "name": "ipython",
    "version": 3
   },
   "file_extension": ".py",
   "mimetype": "text/x-python",
   "name": "python",
   "nbconvert_exporter": "python",
   "pygments_lexer": "ipython3",
   "version": "3.7.4"
  }
 },
 "nbformat": 4,
 "nbformat_minor": 2
}
