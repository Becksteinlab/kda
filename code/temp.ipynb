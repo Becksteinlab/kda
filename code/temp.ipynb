{
 "cells": [
  {
   "cell_type": "code",
   "execution_count": 1,
   "metadata": {},
   "outputs": [],
   "source": [
    "import numpy as np\n",
    "import networkx as nx\n",
    "import matplotlib as mpl\n",
    "import matplotlib.pyplot as plt\n",
    "from model_generation import pos_3\n",
    "from kinetic_diagram_analyzer import generate_edges as GE\n",
    "from kinetic_diagram_analyzer import add_node_attribute"
   ]
  },
  {
   "cell_type": "code",
   "execution_count": 2,
   "metadata": {},
   "outputs": [],
   "source": [
    "k12 = 1\n",
    "k21 = 2\n",
    "k23 = 3\n",
    "k32 = 5\n",
    "k13 = 7\n",
    "k31 = 11\n",
    "\n",
    "kvals = np.array([[0, k12, k13],\n",
    "                  [k21, 0, k23],\n",
    "                  [k31, k32, 0]])\n",
    "\n",
    "knames = np.array([[0, \"k12\", \"k13\"],\n",
    "                   [\"k21\", 0, \"k23\"],\n",
    "                   [\"k31\", \"k32\", 0]])"
   ]
  },
  {
   "cell_type": "code",
   "execution_count": 3,
   "metadata": {},
   "outputs": [],
   "source": [
    "H = nx.MultiDiGraph()\n",
    "GE(H, knames, kvals, name_key='name', val_key='val')\n",
    "pos = pos_3()"
   ]
  },
  {
   "cell_type": "code",
   "execution_count": 4,
   "metadata": {},
   "outputs": [],
   "source": [
    "# edge_list = list(H.edges(data=True))\n",
    "# for e in edge_list:\n",
    "#     print(\"{} = {}\".format(e[2]['name'], e[2]['val']))"
   ]
  },
  {
   "cell_type": "code",
   "execution_count": 5,
   "metadata": {},
   "outputs": [
    {
     "data": {
      "text/plain": [
       "[(0, {'probability': 0.0625}),\n",
       " (1, {'probability': 0.3125}),\n",
       " (2, {'probability': 0.625})]"
      ]
     },
     "execution_count": 5,
     "metadata": {},
     "output_type": "execute_result"
    }
   ],
   "source": [
    "probs = np.array([1, 5, 10])\n",
    "norm = probs.sum(axis=0)\n",
    "probs = probs/norm\n",
    "add_node_attribute(H, probs, 'probability')\n",
    "list(H.nodes(data=True))"
   ]
  },
  {
   "cell_type": "code",
   "execution_count": 6,
   "metadata": {},
   "outputs": [],
   "source": [
    "edge_list = list(H.edges(data=True))\n",
    "values = [e[2]['val'] for e in edge_list]"
   ]
  },
  {
   "cell_type": "code",
   "execution_count": 7,
   "metadata": {},
   "outputs": [
    {
     "data": {
      "image/png": "[encoded data removed]",
      "text/plain": [
       "<Figure size 360x288 with 2 Axes>"
      ]
     },
     "metadata": {
      "needs_background": "light"
     },
     "output_type": "display_data"
    }
   ],
   "source": [
    "# pos = nx.circular_layout(H)\n",
    "# pos = nx.random_layout(H)\n",
    "# pos = nx.shell_layout(H)\n",
    "# pos = nx.spring_layout(H)\n",
    "# pos = nx.spectral_layout(H)\n",
    "fig1 = plt.figure(figsize=(5, 4), tight_layout=True)\n",
    "fig1.add_subplot(111)\n",
    "\n",
    "node_sizes = 5e3*probs\n",
    "node_list = [i for i in range(H.number_of_nodes())]\n",
    "nodes = nx.draw_networkx_nodes(H, pos, node_size=node_sizes, nodelist=node_list, node_color='grey')\n",
    "\n",
    "M = H.number_of_edges()\n",
    "# edge_colors = range(M)\n",
    "norm = np.array(values).sum(axis=0)\n",
    "edge_alphas = np.array(values)/norm\n",
    "# edges = nx.draw_networkx_edges(H, pos, node_size=node_sizes, width=4, arrow_style='->', arrowsize=15, edge_color=edge_colors, edge_cmap=plt.cm.get_cmap('Greys', 100))\n",
    "edges = nx.draw_networkx_edges(H, pos, node_size=node_sizes, width=4, arrow_style='->', arrowsize=15, edge_cmap=plt.cm.get_cmap('Greys', 100))\n",
    "\n",
    "labels = {}\n",
    "for i in range(H.number_of_nodes()):\n",
    "    labels[i] = r\"${}$\".format(i+1)\n",
    "nx.draw_networkx_labels(H, pos, labels, font_size=16)\n",
    "\n",
    "for i in range(M):\n",
    "    edges[i].set_alpha(edge_alphas[i])\n",
    "    \n",
    "pc = mpl.collections.PatchCollection(edges, cmap=plt.cm.get_cmap('Greys', 100))\n",
    "pc.set_array(edge_alphas*norm)\n",
    "plt.colorbar(pc)\n",
    "plt.axis('off')\n",
    "plt.show()"
   ]
  },
  {
   "cell_type": "code",
   "execution_count": 8,
   "metadata": {},
   "outputs": [],
   "source": [
    "key = 'name'"
   ]
  },
  {
   "cell_type": "code",
   "execution_count": 9,
   "metadata": {},
   "outputs": [
    {
     "data": {
      "text/plain": [
       "True"
      ]
     },
     "execution_count": 9,
     "metadata": {},
     "output_type": "execute_result"
    }
   ],
   "source": [
    "isinstance(key, str)"
   ]
  }
 ],
 "metadata": {
  "kernelspec": {
   "display_name": "Python 3",
   "language": "python",
   "name": "python3"
  },
  "language_info": {
   "codemirror_mode": {
    "name": "ipython",
    "version": 3
   },
   "file_extension": ".py",
   "mimetype": "text/x-python",
   "name": "python",
   "nbconvert_exporter": "python",
   "pygments_lexer": "ipython3",
   "version": "3.7.4"
  }
 },
 "nbformat": 4,
 "nbformat_minor": 2
}
